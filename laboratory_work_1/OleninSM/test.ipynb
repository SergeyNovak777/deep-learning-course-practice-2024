{
 "cells": [
  {
   "cell_type": "code",
   "execution_count": 3,
   "metadata": {},
   "outputs": [],
   "source": [
    "import numpy\n",
    "import matplotlib\n",
    "import os"
   ]
  },
  {
   "cell_type": "markdown",
   "metadata": {},
   "source": [
    "error: externally-managed-environment\n",
    "\n",
    "× This environment is externally managed\n",
    "╰─> To install Python packages system-wide, try apt install\n",
    "    python3-xyz, where xyz is the package you are trying to\n",
    "    install.\n",
    "    \n",
    "    If you wish to install a non-Debian-packaged Python package,\n",
    "    create a virtual environment using python3 -m venv path/to/venv.\n",
    "    Then use path/to/venv/bin/python and path/to/venv/bin/pip. Make\n",
    "    sure you have python3-full installed.\n",
    "    \n",
    "    If you wish to install a non-Debian packaged Python application,\n",
    "    it may be easiest to use pipx install xyz, which will manage a\n",
    "    virtual environment for you. Make sure you have pipx installed.\n",
    "    \n",
    "    See /usr/share/doc/python3.12/README.venv for more information.\n",
    "\n",
    "note: If you believe this is a mistake, please contact your Python installation or OS distribution provider. You can override this, at the risk of breaking your Python installation or OS, by passing --break-system-packages.\n",
    "hint: See PEP 668 for the detailed specification.\n"
   ]
  },
  {
   "cell_type": "code",
   "execution_count": 8,
   "metadata": {},
   "outputs": [
    {
     "name": "stdout",
     "output_type": "stream",
     "text": [
      "/home/sergey/study/deep_learning/deep-learning-course-practice-2024/laboratory_work_1/OleninSM/MNIST/train-labels.idx1-ubyte\n",
      "/home/sergey/study/deep_learning/deep-learning-course-practice-2024/laboratory_work_1/OleninSM/MNIST/t10k-labels.idx1-ubyte\n",
      "/home/sergey/study/deep_learning/deep-learning-course-practice-2024/laboratory_work_1/OleninSM/MNIST/t10k-images.idx3-ubyte\n",
      "/home/sergey/study/deep_learning/deep-learning-course-practice-2024/laboratory_work_1/OleninSM/MNIST/train-images.idx3-ubyte\n",
      "/home/sergey/study/deep_learning/deep-learning-course-practice-2024/laboratory_work_1/OleninSM/MNIST/train-labels-idx1-ubyte/train-labels-idx1-ubyte\n",
      "/home/sergey/study/deep_learning/deep-learning-course-practice-2024/laboratory_work_1/OleninSM/MNIST/train-images-idx3-ubyte/train-images-idx3-ubyte\n",
      "/home/sergey/study/deep_learning/deep-learning-course-practice-2024/laboratory_work_1/OleninSM/MNIST/t10k-labels-idx1-ubyte/t10k-labels-idx1-ubyte\n",
      "/home/sergey/study/deep_learning/deep-learning-course-practice-2024/laboratory_work_1/OleninSM/MNIST/t10k-images-idx3-ubyte/t10k-images-idx3-ubyte\n"
     ]
    }
   ],
   "source": [
    "for dirname, _, filenames in os.walk('/home/sergey/study/deep_learning/deep-learning-course-practice-2024/laboratory_work_1/OleninSM/MNIST/'):\n",
    "    for filename in filenames:\n",
    "        print(os.path.join(dirname, filename))"
   ]
  },
  {
   "cell_type": "code",
   "execution_count": null,
   "metadata": {},
   "outputs": [],
   "source": [
    "/usr/bin/python3 -m pip install ipykernel -U --user --force-reinstall"
   ]
  }
 ],
 "metadata": {
  "kernelspec": {
   "display_name": "env_python3",
   "language": "python",
   "name": "python3"
  },
  "language_info": {
   "codemirror_mode": {
    "name": "ipython",
    "version": 3
   },
   "file_extension": ".py",
   "mimetype": "text/x-python",
   "name": "python",
   "nbconvert_exporter": "python",
   "pygments_lexer": "ipython3",
   "version": "3.12.3"
  }
 },
 "nbformat": 4,
 "nbformat_minor": 2
}
